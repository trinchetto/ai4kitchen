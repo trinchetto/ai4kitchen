{
 "cells": [
  {
   "cell_type": "markdown",
   "metadata": {},
   "source": [
    "# AI4Kitchen Quickstart Demo\n",
    "\n",
    "This notebook walks through a minimal example of loading the AI4Kitchen recipe dataset and previewing a few image/text pairs. It is designed to run in Google Colab or any environment where the repository is available."
   ]
  },
  {
   "cell_type": "markdown",
   "metadata": {},
   "source": [
    "## 1. Environment setup\n",
    "\n",
    "If you're running this notebook in Colab, uncomment the cell below to install the project dependencies directly from PyPI (or install them however you prefer). Adjust the command if you have a local wheel or specific forks."
   ]
  },
  {
   "cell_type": "code",
   "execution_count": null,
   "metadata": {
    "tags": [
     "parameters"
    ]
   },
   "outputs": [],
   "source": [
    "# Uncomment if running in a clean environment like Google Colab\n",
    "# !pip install -q datasets pillow transformers lightning\n",
    "\n",
    "from pathlib import Path\n",
    "import sys\n",
    "\n",
    "PROJECT_ROOT = Path.cwd()\n",
    "SRC_DIR = PROJECT_ROOT / \"src\"\n",
    "if SRC_DIR.exists() and str(SRC_DIR) not in sys.path:\n",
    "    sys.path.insert(0, str(SRC_DIR))\n",
    "    print(f\"Added {SRC_DIR} to PYTHONPATH\")\n",
    "else:\n",
    "    print(\"SRC directory already on PYTHONPATH or missing.\")"
   ]
  },
  {
   "cell_type": "markdown",
   "metadata": {},
   "source": [
    "## 2. Load a small split of the recipe dataset\n",
    "\n",
    "We reuse the repository's `IngredientRecipeDataset` wrapper to pull a tiny slice of the Hugging Face dataset. Feel free to change the slice or the dataset name to explore more samples."
   ]
  },
  {
   "cell_type": "code",
   "execution_count": null,
   "metadata": {},
   "outputs": [],
   "source": [
    "from ai4kitchen.data.dataset import IngredientRecipeDataset\n",
    "\n",
    "dataset = IngredientRecipeDataset(split=\"train[:3]\")\n",
    "len(dataset)"
   ]
  },
  {
   "cell_type": "markdown",
   "metadata": {},
   "source": [
    "## 3. Display three image/text pairs\n",
    "\n",
    "The helper below tries multiple strategies to render an image for each example. If the dataset doesn't ship with the image bits or you don't have them locally, it will fall back to a message explaining the missing asset."
   ]
  },
  {
   "cell_type": "code",
   "execution_count": null,
   "metadata": {},
   "outputs": [],
   "source": [
    "from typing import Any\n",
    "from IPython.display import display, Markdown\n",
    "from PIL import Image\n",
    "\n",
    "def display_example(example: Any, raw_example: dict[str, Any], index: int) -> None:\n",
    "    title = raw_example.get(\"Title\", f\"Example {index + 1}\")\n",
    "    ingredients = example.ingredients or []\n",
    "    recipe_text = example.recipe_text or \"No recipe text available.\"\n",
    "\n",
    "    display(\n",
    "        Markdown(\n",
    "            f\"### {title}\\n\"\n",
    "            f\"**Ingredients:** {', '.join(ingredients) if ingredients else 'N/A'}\\n\\n\"\n",
    "            f\"**Recipe:** {recipe_text[:400]}{'…' if len(recipe_text) > 400 else ''}\"\n",
    "        )\n",
    "    )\n",
    "\n",
    "    image_displayed = False\n",
    "\n",
    "    raw_image = raw_example.get(\"image\")\n",
    "    if isinstance(raw_image, Image.Image):\n",
    "        display(raw_image)\n",
    "        image_displayed = True\n",
    "\n",
    "    if not image_displayed:\n",
    "        candidate_path = raw_example.get(\"Images\") or raw_example.get(\"Image\") or raw_example.get(\"image_path\")\n",
    "        if isinstance(candidate_path, str):\n",
    "            path = Path(candidate_path)\n",
    "            if path.exists():\n",
    "                display(Image.open(path))\n",
    "                image_displayed = True\n",
    "\n",
    "    if not image_displayed and example.image_path:\n",
    "        fallback_path = Path(example.image_path)\n",
    "        if fallback_path.exists():\n",
    "            display(Image.open(fallback_path))\n",
    "            image_displayed = True\n",
    "\n",
    "    if not image_displayed:\n",
    "        display(Markdown(\"_Image preview unavailable in this environment. Check that the dataset includes image files and they have been downloaded._\"))\n",
    "\n",
    "for idx in range(len(dataset)):\n",
    "    example = dataset[idx]\n",
    "    raw_example = dataset._dataset[idx]  # type: ignore[attr-defined]\n",
    "    display_example(example, raw_example, idx)\n"
   ]
  }
 ],
 "metadata": {
  "kernelspec": {
   "display_name": "Python 3",
   "language": "python",
   "name": "python3"
  },
  "language_info": {
   "name": "python",
   "version": "3.10"
  }
 },
 "nbformat": 4,
 "nbformat_minor": 5
}
